{
 "cells": [
  {
   "cell_type": "code",
   "execution_count": 1,
   "metadata": {},
   "outputs": [],
   "source": [
    "from selenium import webdriver\n",
    "\n",
    "from selenium.webdriver.chrome.service import Service\n",
    "from webdriver_manager.chrome import ChromeDriverManager \n",
    "import time\n",
    "\n",
    "service = Service(ChromeDriverManager().install())\n",
    "navegador = webdriver.Chrome(service=service)\n",
    "navegador.get(\"https://web.whatsapp.com\")\n",
    "time.sleep(2)\n"
   ]
  },
  {
   "cell_type": "code",
   "execution_count": 2,
   "metadata": {},
   "outputs": [],
   "source": [
    "from selenium.webdriver.common.keys import Keys\n",
    "import pyperclip\n",
    "\n",
    "mensagem = \"\"\"Olá! Estou testando a automação de mensagens.\n",
    "Como você está?(Mensagem de Teste)\"\"\"\n",
    "\n",
    "lista_contatos = [\"Meu Numero\",\"Amore Mio\",\"Anotações\"]\n",
    "\n",
    "#Enviar a mensagem para meu proprio numero para depois encaminhar para a lista de contatos\n",
    "\n",
    "#clicar na lupa\n",
    "navegador.find_element('xpath','//*[@id=\"side\"]/div[1]/div/div/button/div[2]/span').click()\n",
    "time.sleep(1.5)\n",
    "\n",
    "#escrever meu numero\n",
    "navegador.find_element('xpath','//*[@id=\"side\"]/div[1]/div/div/div[2]/div/div[1]/p').send_keys(\"Você\")\n",
    "time.sleep(1)\n",
    "\n",
    "#dar enter\n",
    "navegador.find_element('xpath','//*[@id=\"side\"]/div[1]/div/div/div[2]/div/div[1]/p').send_keys(Keys.ENTER)\n",
    "time.sleep(1)\n",
    "\n",
    "#Mandar mensagem para eu mesmo\n",
    "pyperclip.copy(mensagem)\n",
    "navegador.find_element('xpath','//*[@id=\"main\"]/footer/div[1]/div/span[2]/div/div[2]/div[1]/div/div[1]/p').send_keys(Keys.CONTROL + \"v\")\n",
    "time.sleep(1)\n",
    "navegador.find_element('xpath','//*[@id=\"main\"]/footer/div[1]/div/span[2]/div/div[2]/div[1]/div/div[1]/p').send_keys(Keys.ENTER)\n",
    "time.sleep(1)"
   ]
  },
  {
   "cell_type": "code",
   "execution_count": 26,
   "metadata": {},
   "outputs": [],
   "source": [
    "#Encaminhar mensagem\n",
    "\n"
   ]
  },
  {
   "cell_type": "code",
   "execution_count": 16,
   "metadata": {},
   "outputs": [
    {
     "ename": "ElementNotInteractableException",
     "evalue": "Message: element not interactable\n  (Session info: chrome=116.0.5845.111)\nStacktrace:\n\tGetHandleVerifier [0x003C37C3+48947]\n\t(No symbol) [0x00358551]\n\t(No symbol) [0x0025C7F0]\n\t(No symbol) [0x00286458]\n\t(No symbol) [0x00285AB5]\n\t(No symbol) [0x002A508C]\n\t(No symbol) [0x00282EB6]\n\t(No symbol) [0x002A53E4]\n\t(No symbol) [0x002B75DA]\n\t(No symbol) [0x002A4E86]\n\t(No symbol) [0x002816C7]\n\t(No symbol) [0x0028284D]\n\tGetHandleVerifier [0x0060FDF9+2458985]\n\tGetHandleVerifier [0x0065744F+2751423]\n\tGetHandleVerifier [0x00651361+2726609]\n\tGetHandleVerifier [0x00440680+560624]\n\t(No symbol) [0x0036238C]\n\t(No symbol) [0x0035E268]\n\t(No symbol) [0x0035E392]\n\t(No symbol) [0x003510B7]\n\tBaseThreadInitThunk [0x767B7D59+25]\n\tRtlInitializeExceptionChain [0x77C6B79B+107]\n\tRtlClearBits [0x77C6B71F+191]\n",
     "output_type": "error",
     "traceback": [
      "\u001b[1;31m---------------------------------------------------------------------------\u001b[0m",
      "\u001b[1;31mElementNotInteractableException\u001b[0m           Traceback (most recent call last)",
      "Cell \u001b[1;32mIn[16], line 32\u001b[0m\n\u001b[0;32m     29\u001b[0m time\u001b[39m.\u001b[39msleep(\u001b[39m2\u001b[39m)\n\u001b[0;32m     30\u001b[0m \u001b[39m#clica no botao de encaminhar\u001b[39;00m\n\u001b[0;32m     31\u001b[0m \u001b[39m#navegador.find_element('xpath','//*[@id=\"app\"]/div/span[4]/div/ul/div/li[4]/div').click()\u001b[39;00m\n\u001b[1;32m---> 32\u001b[0m navegador\u001b[39m.\u001b[39;49mfind_element(\u001b[39m'\u001b[39;49m\u001b[39mxpath\u001b[39;49m\u001b[39m'\u001b[39;49m,\u001b[39m'\u001b[39;49m\u001b[39m//*[@id=\u001b[39;49m\u001b[39m\"\u001b[39;49m\u001b[39mapp\u001b[39;49m\u001b[39m\"\u001b[39;49m\u001b[39m]/div/span[4]/div/ul/div/li[4]/div\u001b[39;49m\u001b[39m'\u001b[39;49m)\u001b[39m.\u001b[39;49msend_keys(Keys\u001b[39m.\u001b[39;49mARROW_LEFT)\n\u001b[0;32m     33\u001b[0m time\u001b[39m.\u001b[39msleep(\u001b[39m1\u001b[39m)\n\u001b[0;32m     34\u001b[0m navegador\u001b[39m.\u001b[39mfind_element(\u001b[39m'\u001b[39m\u001b[39mxpath\u001b[39m\u001b[39m'\u001b[39m,\u001b[39m'\u001b[39m\u001b[39m//*[@id=\u001b[39m\u001b[39m\"\u001b[39m\u001b[39mapp\u001b[39m\u001b[39m\"\u001b[39m\u001b[39m]/div/span[4]/div/ul/div/li[4]/div\u001b[39m\u001b[39m'\u001b[39m)\u001b[39m.\u001b[39msend_keys(Keys\u001b[39m.\u001b[39mARROW_LEFT)\n",
      "File \u001b[1;32mc:\\Users\\gnd20\\AppData\\Local\\Programs\\Python\\Python311\\Lib\\site-packages\\selenium\\webdriver\\remote\\webelement.py:231\u001b[0m, in \u001b[0;36mWebElement.send_keys\u001b[1;34m(self, *value)\u001b[0m\n\u001b[0;32m    228\u001b[0m             remote_files\u001b[39m.\u001b[39mappend(\u001b[39mself\u001b[39m\u001b[39m.\u001b[39m_upload(file))\n\u001b[0;32m    229\u001b[0m         value \u001b[39m=\u001b[39m \u001b[39m\"\u001b[39m\u001b[39m\\n\u001b[39;00m\u001b[39m\"\u001b[39m\u001b[39m.\u001b[39mjoin(remote_files)\n\u001b[1;32m--> 231\u001b[0m \u001b[39mself\u001b[39;49m\u001b[39m.\u001b[39;49m_execute(\n\u001b[0;32m    232\u001b[0m     Command\u001b[39m.\u001b[39;49mSEND_KEYS_TO_ELEMENT, {\u001b[39m\"\u001b[39;49m\u001b[39mtext\u001b[39;49m\u001b[39m\"\u001b[39;49m: \u001b[39m\"\u001b[39;49m\u001b[39m\"\u001b[39;49m\u001b[39m.\u001b[39;49mjoin(keys_to_typing(value)), \u001b[39m\"\u001b[39;49m\u001b[39mvalue\u001b[39;49m\u001b[39m\"\u001b[39;49m: keys_to_typing(value)}\n\u001b[0;32m    233\u001b[0m )\n",
      "File \u001b[1;32mc:\\Users\\gnd20\\AppData\\Local\\Programs\\Python\\Python311\\Lib\\site-packages\\selenium\\webdriver\\remote\\webelement.py:395\u001b[0m, in \u001b[0;36mWebElement._execute\u001b[1;34m(self, command, params)\u001b[0m\n\u001b[0;32m    393\u001b[0m     params \u001b[39m=\u001b[39m {}\n\u001b[0;32m    394\u001b[0m params[\u001b[39m\"\u001b[39m\u001b[39mid\u001b[39m\u001b[39m\"\u001b[39m] \u001b[39m=\u001b[39m \u001b[39mself\u001b[39m\u001b[39m.\u001b[39m_id\n\u001b[1;32m--> 395\u001b[0m \u001b[39mreturn\u001b[39;00m \u001b[39mself\u001b[39;49m\u001b[39m.\u001b[39;49m_parent\u001b[39m.\u001b[39;49mexecute(command, params)\n",
      "File \u001b[1;32mc:\\Users\\gnd20\\AppData\\Local\\Programs\\Python\\Python311\\Lib\\site-packages\\selenium\\webdriver\\remote\\webdriver.py:345\u001b[0m, in \u001b[0;36mWebDriver.execute\u001b[1;34m(self, driver_command, params)\u001b[0m\n\u001b[0;32m    343\u001b[0m response \u001b[39m=\u001b[39m \u001b[39mself\u001b[39m\u001b[39m.\u001b[39mcommand_executor\u001b[39m.\u001b[39mexecute(driver_command, params)\n\u001b[0;32m    344\u001b[0m \u001b[39mif\u001b[39;00m response:\n\u001b[1;32m--> 345\u001b[0m     \u001b[39mself\u001b[39;49m\u001b[39m.\u001b[39;49merror_handler\u001b[39m.\u001b[39;49mcheck_response(response)\n\u001b[0;32m    346\u001b[0m     response[\u001b[39m\"\u001b[39m\u001b[39mvalue\u001b[39m\u001b[39m\"\u001b[39m] \u001b[39m=\u001b[39m \u001b[39mself\u001b[39m\u001b[39m.\u001b[39m_unwrap_value(response\u001b[39m.\u001b[39mget(\u001b[39m\"\u001b[39m\u001b[39mvalue\u001b[39m\u001b[39m\"\u001b[39m, \u001b[39mNone\u001b[39;00m))\n\u001b[0;32m    347\u001b[0m     \u001b[39mreturn\u001b[39;00m response\n",
      "File \u001b[1;32mc:\\Users\\gnd20\\AppData\\Local\\Programs\\Python\\Python311\\Lib\\site-packages\\selenium\\webdriver\\remote\\errorhandler.py:229\u001b[0m, in \u001b[0;36mErrorHandler.check_response\u001b[1;34m(self, response)\u001b[0m\n\u001b[0;32m    227\u001b[0m         alert_text \u001b[39m=\u001b[39m value[\u001b[39m\"\u001b[39m\u001b[39malert\u001b[39m\u001b[39m\"\u001b[39m]\u001b[39m.\u001b[39mget(\u001b[39m\"\u001b[39m\u001b[39mtext\u001b[39m\u001b[39m\"\u001b[39m)\n\u001b[0;32m    228\u001b[0m     \u001b[39mraise\u001b[39;00m exception_class(message, screen, stacktrace, alert_text)  \u001b[39m# type: ignore[call-arg]  # mypy is not smart enough here\u001b[39;00m\n\u001b[1;32m--> 229\u001b[0m \u001b[39mraise\u001b[39;00m exception_class(message, screen, stacktrace)\n",
      "\u001b[1;31mElementNotInteractableException\u001b[0m: Message: element not interactable\n  (Session info: chrome=116.0.5845.111)\nStacktrace:\n\tGetHandleVerifier [0x003C37C3+48947]\n\t(No symbol) [0x00358551]\n\t(No symbol) [0x0025C7F0]\n\t(No symbol) [0x00286458]\n\t(No symbol) [0x00285AB5]\n\t(No symbol) [0x002A508C]\n\t(No symbol) [0x00282EB6]\n\t(No symbol) [0x002A53E4]\n\t(No symbol) [0x002B75DA]\n\t(No symbol) [0x002A4E86]\n\t(No symbol) [0x002816C7]\n\t(No symbol) [0x0028284D]\n\tGetHandleVerifier [0x0060FDF9+2458985]\n\tGetHandleVerifier [0x0065744F+2751423]\n\tGetHandleVerifier [0x00651361+2726609]\n\tGetHandleVerifier [0x00440680+560624]\n\t(No symbol) [0x0036238C]\n\t(No symbol) [0x0035E268]\n\t(No symbol) [0x0035E392]\n\t(No symbol) [0x003510B7]\n\tBaseThreadInitThunk [0x767B7D59+25]\n\tRtlInitializeExceptionChain [0x77C6B79B+107]\n\tRtlClearBits [0x77C6B71F+191]\n"
     ]
    }
   ],
   "source": [
    "#calcular a quantidades de vezes necessarias lembrando que envia de 5 em 5 pessoas\n",
    "qtde_contatos = len(lista_contatos)\n",
    "if qtde_contatos % 5 == 0:\n",
    "    qtde_blocos = int(qtde_contatos) / 5\n",
    "else:\n",
    "    qtde_blocos = int(qtde_contatos/5) + 1\n",
    "\n",
    "\n",
    "#seleciona os 5 contatos\n",
    "for i in range(qtde_blocos):\n",
    "    i_inicial = i*5\n",
    "    i_final = (i+1) * 5\n",
    "    lista_enviar = lista_contatos[i_inicial : i_final]\n",
    "\n",
    "\n",
    "    from selenium.webdriver.common.action_chains import ActionChains\n",
    "    #seleciona o box da mensagem ora encaminhar\n",
    "    lista_elementos =  navegador.find_elements('class name','_2AOIt')\n",
    "    for item in lista_elementos:\n",
    "        mensagem = mensagem.replace('\\n',\"\")\n",
    "        texto = item.text.replace('\\n',\"\")\n",
    "        if mensagem in texto:\n",
    "            elemento = item\n",
    "            break\n",
    "\n",
    "    #seleciona a mensagem que vc mandou pra vc mesmo pra encaminhar ela\n",
    "    ActionChains(navegador).move_to_element(elemento).perform()\n",
    "    elemento.find_element('class name','_3u9t-').click()\n",
    "    time.sleep(2)\n",
    "    #clica no botao de encaminhar\n",
    "    #navegador.find_element('xpath','//*[@id=\"app\"]/div/span[4]/div/ul/div/li[4]/div').click()\n",
    "    time.sleep(1)\n",
    "    navegador.find_element('xpath', '//*[@id=\"app\"]/div/span[4]/div/ul/div/li[3]/div').click()\n",
    "    time.sleep(1)\n",
    "\n",
    "    for nome in lista_enviar:\n",
    "        navegador.find_element('xpath','//*[@id=\"app\"]/div/span[2]/div/div/div/div/div/div/div/div[1]/div/div/div[2]/div/div[1]/p').send_keys(nome)\n",
    "        time.sleep(1)\n",
    "        #dar enter\n",
    "        navegador.find_element('xpath','//*[@id=\"app\"]/div/span[2]/div/div/div/div/div/div/div/div[1]/div/div/div[2]/div/div[1]/p').send_keys(Keys.ENTER)\n",
    "        time.sleep(1)\n",
    "        #apagar o nome escrito\n",
    "        navegador.find_element('xpath','//*[@id=\"app\"]/div/span[2]/div/div/div/div/div/div/div/div[1]/div/div/div[2]/div/div[1]/p').send_keys(Keys.DELETE)\n",
    "        time.sleep(1)\n",
    "\n",
    "\n",
    "#clicando em enviar\n",
    "navegador.find_element('xpath','//*[@id=\"app\"]/div/span[2]/div/div/div/div/div/div/div/span/div/div/div/span').click()\n",
    "time.sleep(5)\n",
    "\n"
   ]
  }
 ],
 "metadata": {
  "kernelspec": {
   "display_name": "Python 3",
   "language": "python",
   "name": "python3"
  },
  "language_info": {
   "codemirror_mode": {
    "name": "ipython",
    "version": 3
   },
   "file_extension": ".py",
   "mimetype": "text/x-python",
   "name": "python",
   "nbconvert_exporter": "python",
   "pygments_lexer": "ipython3",
   "version": "3.11.4"
  },
  "orig_nbformat": 4
 },
 "nbformat": 4,
 "nbformat_minor": 2
}
